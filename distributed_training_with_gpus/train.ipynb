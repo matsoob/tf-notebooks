{
 "cells": [
  {
   "attachments": {},
   "cell_type": "markdown",
   "metadata": {},
   "source": [
    "## Training on some MNIST Data, leveraging MacBook GPU setup\n",
    "\n",
    "### Objectives\n",
    "- Increase familiarity with tf/keras\n",
    "- Learn about tf.data.Dataset API\n",
    "- See if I can train on my MacBook\n",
    "\n",
    "### Sources\n",
    "Loosely adapted from this [notebook](https://github.com/GoogleCloudPlatform/training-data-analyst/blob/master/courses/machine_learning/deepdive2/production_ml/labs/tpu_speed_data_pipelines.ipynb)\n",
    "\n",
    "### Notes to self\n",
    "```bash\n",
    "conda activate ml\n",
    "jupyter notebook\n",
    "```"
   ]
  },
  {
   "cell_type": "code",
   "execution_count": null,
   "metadata": {
    "vscode": {
     "languageId": "python"
    }
   },
   "outputs": [],
   "source": [
    "import os, re, time, json\n",
    "import sys, math\n",
    "import PIL.Image, PIL.ImageFont, PIL.ImageDraw\n",
    "import numpy as np\n",
    "import tensorflow as tf\n",
    "from matplotlib import pyplot as plt\n",
    "print(\"Tensorflow version \" + tf.__version__)"
   ]
  }
 ],
 "metadata": {
  "kernelspec": {
   "display_name": "Python 3",
   "language": "python",
   "name": "python3"
  },
  "orig_nbformat": 4
 },
 "nbformat": 4,
 "nbformat_minor": 2
}
